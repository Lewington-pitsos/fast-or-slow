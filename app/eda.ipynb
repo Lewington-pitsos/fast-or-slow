{
 "cells": [
  {
   "cell_type": "code",
   "execution_count": 9,
   "id": "015a627d-6587-4495-a183-2ceaf1f7ea62",
   "metadata": {},
   "outputs": [],
   "source": [
    "import pandas as pd\n",
    "import os\n",
    "import numpy as np"
   ]
  },
  {
   "cell_type": "code",
   "execution_count": 3,
   "id": "93d1f19f-1766-4682-beb0-164583d0881a",
   "metadata": {},
   "outputs": [],
   "source": [
    "DATA_DIR = \"../npz_all/npz\"\n",
    "\n",
    "\n",
    "def generate_tile_df() -> pd.DataFrame:\n",
    "    tile_df = pd.DataFrame({'paths': [elem for elem in (Path(DATA_DIR) / 'tile').rglob(\"*\") if elem.is_file()]}).assign(\n",
    "        split=lambda df: df.paths.apply(lambda x: x.parent.name),\n",
    "        configuration=lambda df: df.paths.apply(lambda x: x.parent.parent.name),\n",
    "        extra=lambda df: df.paths.apply(lambda x: x.parent.parent.parent.name),\n",
    "        model_name=lambda df: df.paths.apply(lambda x: x.stem),\n",
    "        collection=lambda df: df.extra + ':' + df.configuration ,\n",
    "        ID=lambda df: df.collection + ':' + df.model_name ,\n",
    "        paths = lambda df: df.paths.apply(lambda x: str(x))\n",
    "    )\n",
    "    return tile_df"
   ]
  },
  {
   "cell_type": "code",
   "execution_count": 10,
   "id": "6d82928d-3296-4dab-8e6a-cd9c5a6210e8",
   "metadata": {},
   "outputs": [],
   "source": [
    "os.listdir('../npz_all/npz/layout/xla/random/train')\n",
    "\n",
    "data = np.load('../npz_all/npz/layout/xla/random/train/efficientnet_b7_eval_batch_1.npz')"
   ]
  },
  {
   "cell_type": "code",
   "execution_count": 13,
   "id": "43194486-000e-4254-a239-043eec2310fe",
   "metadata": {},
   "outputs": [
    {
     "data": {
      "text/plain": [
       "numpy.lib.npyio.NpzFile"
      ]
     },
     "execution_count": 13,
     "metadata": {},
     "output_type": "execute_result"
    }
   ],
   "source": [
    "type(data)"
   ]
  },
  {
   "cell_type": "code",
   "execution_count": 22,
   "id": "40d1c013-7360-4499-87e8-1c1225c2ebbc",
   "metadata": {},
   "outputs": [
    {
     "name": "stdout",
     "output_type": "stream",
     "text": [
      "edge_index (73881, 2)\n",
      "node_feat (43615, 140)\n",
      "node_opcode (43615,)\n",
      "node_config_feat (1871, 1158, 18)\n",
      "node_config_ids (1158,)\n",
      "node_splits (1, 3)\n",
      "config_runtime (1871,)\n"
     ]
    }
   ],
   "source": [
    "for k, v in data.items():\n",
    "    print(k, v.shape)"
   ]
  },
  {
   "cell_type": "code",
   "execution_count": 19,
   "id": "344eb85b-4bc8-427c-9e93-35ceec7ac2e2",
   "metadata": {},
   "outputs": [
    {
     "data": {
      "text/plain": [
       "(73881, 2)"
      ]
     },
     "execution_count": 19,
     "metadata": {},
     "output_type": "execute_result"
    }
   ],
   "source": [
    "data['edge_index'].shape"
   ]
  },
  {
   "cell_type": "code",
   "execution_count": null,
   "id": "4d5f3ab9-58ac-4595-8be9-b0446d2ce48c",
   "metadata": {},
   "outputs": [],
   "source": []
  }
 ],
 "metadata": {
  "kernelspec": {
   "display_name": "Python 3 (ipykernel)",
   "language": "python",
   "name": "python3"
  },
  "language_info": {
   "codemirror_mode": {
    "name": "ipython",
    "version": 3
   },
   "file_extension": ".py",
   "mimetype": "text/x-python",
   "name": "python",
   "nbconvert_exporter": "python",
   "pygments_lexer": "ipython3",
   "version": "3.10.12"
  }
 },
 "nbformat": 4,
 "nbformat_minor": 5
}
